{
 "cells": [
  {
   "cell_type": "code",
   "execution_count": 1,
   "metadata": {
    "scrolled": true
   },
   "outputs": [],
   "source": [
    "import numpy as np\n",
    "import pandas as pd\n",
    "from IPython.core.interactiveshell import InteractiveShell\n",
    "InteractiveShell.ast_node_interactivity= 'all'\n",
    "import seaborn as sn\n",
    "import matplotlib.pyplot as plt\n",
    "%matplotlib inline\n",
    "import matplotlib as mpl\n",
    "sn.set()\n",
    "import matplotlib.font_manager as fm\n",
    "fl = fm.FontProperties(fname =\"C:\\Windows\\Fonts\\malgun.ttf\").get_name()\n",
    "plt.rc('font',family=fl)\n",
    "from patsy import dmatrices\n",
    "import statsmodels.api as sm\n",
    "from statsmodels.stats.outliers_influence import variance_inflation_factor\n",
    "import statsmodels.formula.api as smf\n",
    "from scipy import stats"
   ]
  },
  {
   "cell_type": "code",
   "execution_count": 2,
   "metadata": {},
   "outputs": [],
   "source": [
    "from statsmodels.iolib.summary2 import summary_col\n",
    "import statsmodels.stats.stattools as tools\n",
    "import statsmodels.stats.diagnostic as sm_diagnostic\n",
    "from statsmodels.compat import lzip\n",
    "import statsmodels.stats as sm_stats\n",
    "import statsmodels.stats.outliers_influence as oi\n",
    "from patsy import dmatrices\n",
    "import statsmodels.api as sm\n",
    "from statsmodels.stats.outliers_influence import variance_inflation_factor\n",
    "import statsmodels.stats.api as sms\n",
    "from statsmodels.compat import lzip\n",
    "import statsmodels.stats.outliers_influence as oi\n",
    "import statsmodels.stats as sm_stats"
   ]
  },
  {
   "cell_type": "code",
   "execution_count": 3,
   "metadata": {
    "scrolled": true
   },
   "outputs": [
    {
     "data": {
      "text/html": [
       "<div>\n",
       "<style scoped>\n",
       "    .dataframe tbody tr th:only-of-type {\n",
       "        vertical-align: middle;\n",
       "    }\n",
       "\n",
       "    .dataframe tbody tr th {\n",
       "        vertical-align: top;\n",
       "    }\n",
       "\n",
       "    .dataframe thead th {\n",
       "        text-align: right;\n",
       "    }\n",
       "</style>\n",
       "<table border=\"1\" class=\"dataframe\">\n",
       "  <thead>\n",
       "    <tr style=\"text-align: right;\">\n",
       "      <th></th>\n",
       "      <th>2010crime</th>\n",
       "      <th>2010population</th>\n",
       "      <th>2010grand</th>\n",
       "      <th>2010population_density</th>\n",
       "      <th>2010foreigner</th>\n",
       "      <th>2010drink</th>\n",
       "      <th>2010smoke</th>\n",
       "      <th>2010academe</th>\n",
       "      <th>2010grdp</th>\n",
       "      <th>2011crime</th>\n",
       "      <th>...</th>\n",
       "      <th>2015grdp</th>\n",
       "      <th>2016crime</th>\n",
       "      <th>2016population</th>\n",
       "      <th>2016grand</th>\n",
       "      <th>2016population_density</th>\n",
       "      <th>2016foreigner</th>\n",
       "      <th>2016drink</th>\n",
       "      <th>2016smoke</th>\n",
       "      <th>2016academe</th>\n",
       "      <th>2016grdp</th>\n",
       "    </tr>\n",
       "    <tr>\n",
       "      <th>지역/연도</th>\n",
       "      <th></th>\n",
       "      <th></th>\n",
       "      <th></th>\n",
       "      <th></th>\n",
       "      <th></th>\n",
       "      <th></th>\n",
       "      <th></th>\n",
       "      <th></th>\n",
       "      <th></th>\n",
       "      <th></th>\n",
       "      <th></th>\n",
       "      <th></th>\n",
       "      <th></th>\n",
       "      <th></th>\n",
       "      <th></th>\n",
       "      <th></th>\n",
       "      <th></th>\n",
       "      <th></th>\n",
       "      <th></th>\n",
       "      <th></th>\n",
       "      <th></th>\n",
       "    </tr>\n",
       "  </thead>\n",
       "  <tbody>\n",
       "    <tr>\n",
       "      <th>서울/강남</th>\n",
       "      <td>37863</td>\n",
       "      <td>570095</td>\n",
       "      <td>44095</td>\n",
       "      <td>14418</td>\n",
       "      <td>12328</td>\n",
       "      <td>11.3</td>\n",
       "      <td>19.2</td>\n",
       "      <td>3.2</td>\n",
       "      <td>4601</td>\n",
       "      <td>38915</td>\n",
       "      <td>...</td>\n",
       "      <td>5414</td>\n",
       "      <td>14152</td>\n",
       "      <td>567115</td>\n",
       "      <td>61822</td>\n",
       "      <td>14357</td>\n",
       "      <td>9762</td>\n",
       "      <td>13.9</td>\n",
       "      <td>17.4</td>\n",
       "      <td>3.7</td>\n",
       "      <td>5514</td>\n",
       "    </tr>\n",
       "    <tr>\n",
       "      <th>서울/강동</th>\n",
       "      <td>12589</td>\n",
       "      <td>491871</td>\n",
       "      <td>39413</td>\n",
       "      <td>20011</td>\n",
       "      <td>6444</td>\n",
       "      <td>19.9</td>\n",
       "      <td>26.7</td>\n",
       "      <td>1.5</td>\n",
       "      <td>582</td>\n",
       "      <td>13814</td>\n",
       "      <td>...</td>\n",
       "      <td>640</td>\n",
       "      <td>15140</td>\n",
       "      <td>444168</td>\n",
       "      <td>53121</td>\n",
       "      <td>18063</td>\n",
       "      <td>7006</td>\n",
       "      <td>13.8</td>\n",
       "      <td>19.5</td>\n",
       "      <td>1.6</td>\n",
       "      <td>668</td>\n",
       "    </tr>\n",
       "    <tr>\n",
       "      <th>서울/강북</th>\n",
       "      <td>11355</td>\n",
       "      <td>346520</td>\n",
       "      <td>41641</td>\n",
       "      <td>14677</td>\n",
       "      <td>4497</td>\n",
       "      <td>12.5</td>\n",
       "      <td>26.0</td>\n",
       "      <td>0.8</td>\n",
       "      <td>252</td>\n",
       "      <td>11610</td>\n",
       "      <td>...</td>\n",
       "      <td>234</td>\n",
       "      <td>12725</td>\n",
       "      <td>327195</td>\n",
       "      <td>53964</td>\n",
       "      <td>13866</td>\n",
       "      <td>5243</td>\n",
       "      <td>19.2</td>\n",
       "      <td>21.5</td>\n",
       "      <td>0.7</td>\n",
       "      <td>246</td>\n",
       "    </tr>\n",
       "    <tr>\n",
       "      <th>서울/강서</th>\n",
       "      <td>17778</td>\n",
       "      <td>574127</td>\n",
       "      <td>50189</td>\n",
       "      <td>13861</td>\n",
       "      <td>8309</td>\n",
       "      <td>12.7</td>\n",
       "      <td>22.3</td>\n",
       "      <td>1.2</td>\n",
       "      <td>706</td>\n",
       "      <td>18808</td>\n",
       "      <td>...</td>\n",
       "      <td>873</td>\n",
       "      <td>9267</td>\n",
       "      <td>595485</td>\n",
       "      <td>70889</td>\n",
       "      <td>14371</td>\n",
       "      <td>10309</td>\n",
       "      <td>14.0</td>\n",
       "      <td>19.6</td>\n",
       "      <td>1.2</td>\n",
       "      <td>952</td>\n",
       "    </tr>\n",
       "    <tr>\n",
       "      <th>서울/관악</th>\n",
       "      <td>16182</td>\n",
       "      <td>531434</td>\n",
       "      <td>50350</td>\n",
       "      <td>17972</td>\n",
       "      <td>21511</td>\n",
       "      <td>18.7</td>\n",
       "      <td>23.8</td>\n",
       "      <td>1.0</td>\n",
       "      <td>447</td>\n",
       "      <td>17000</td>\n",
       "      <td>...</td>\n",
       "      <td>470</td>\n",
       "      <td>13869</td>\n",
       "      <td>506851</td>\n",
       "      <td>66659</td>\n",
       "      <td>17141</td>\n",
       "      <td>27794</td>\n",
       "      <td>14.2</td>\n",
       "      <td>22.5</td>\n",
       "      <td>0.9</td>\n",
       "      <td>475</td>\n",
       "    </tr>\n",
       "    <tr>\n",
       "      <th>서울/광진</th>\n",
       "      <td>13443</td>\n",
       "      <td>375463</td>\n",
       "      <td>32034</td>\n",
       "      <td>22008</td>\n",
       "      <td>14857</td>\n",
       "      <td>14.7</td>\n",
       "      <td>25.3</td>\n",
       "      <td>1.2</td>\n",
       "      <td>513</td>\n",
       "      <td>13663</td>\n",
       "      <td>...</td>\n",
       "      <td>503</td>\n",
       "      <td>13659</td>\n",
       "      <td>357215</td>\n",
       "      <td>41292</td>\n",
       "      <td>20935</td>\n",
       "      <td>19231</td>\n",
       "      <td>17.4</td>\n",
       "      <td>20.5</td>\n",
       "      <td>1.2</td>\n",
       "      <td>526</td>\n",
       "    </tr>\n",
       "    <tr>\n",
       "      <th>서울/구로</th>\n",
       "      <td>13986</td>\n",
       "      <td>423736</td>\n",
       "      <td>38829</td>\n",
       "      <td>21060</td>\n",
       "      <td>32391</td>\n",
       "      <td>18.2</td>\n",
       "      <td>23.1</td>\n",
       "      <td>1.0</td>\n",
       "      <td>960</td>\n",
       "      <td>16475</td>\n",
       "      <td>...</td>\n",
       "      <td>1017</td>\n",
       "      <td>13329</td>\n",
       "      <td>417551</td>\n",
       "      <td>55159</td>\n",
       "      <td>20754</td>\n",
       "      <td>46229</td>\n",
       "      <td>14.9</td>\n",
       "      <td>22.8</td>\n",
       "      <td>1.0</td>\n",
       "      <td>1077</td>\n",
       "    </tr>\n",
       "    <tr>\n",
       "      <th>서울/금천</th>\n",
       "      <td>9472</td>\n",
       "      <td>245195</td>\n",
       "      <td>23675</td>\n",
       "      <td>18861</td>\n",
       "      <td>21368</td>\n",
       "      <td>22.0</td>\n",
       "      <td>26.5</td>\n",
       "      <td>1.0</td>\n",
       "      <td>1130</td>\n",
       "      <td>10740</td>\n",
       "      <td>...</td>\n",
       "      <td>1222</td>\n",
       "      <td>11615</td>\n",
       "      <td>235386</td>\n",
       "      <td>31976</td>\n",
       "      <td>18080</td>\n",
       "      <td>28434</td>\n",
       "      <td>20.5</td>\n",
       "      <td>25.6</td>\n",
       "      <td>0.9</td>\n",
       "      <td>1326</td>\n",
       "    </tr>\n",
       "    <tr>\n",
       "      <th>서울/노원</th>\n",
       "      <td>12631</td>\n",
       "      <td>611230</td>\n",
       "      <td>56977</td>\n",
       "      <td>17247</td>\n",
       "      <td>5630</td>\n",
       "      <td>17.3</td>\n",
       "      <td>24.5</td>\n",
       "      <td>0.6</td>\n",
       "      <td>413</td>\n",
       "      <td>12830</td>\n",
       "      <td>...</td>\n",
       "      <td>445</td>\n",
       "      <td>10857</td>\n",
       "      <td>567581</td>\n",
       "      <td>70819</td>\n",
       "      <td>16016</td>\n",
       "      <td>5444</td>\n",
       "      <td>18.0</td>\n",
       "      <td>19.9</td>\n",
       "      <td>1.4</td>\n",
       "      <td>461</td>\n",
       "    </tr>\n",
       "    <tr>\n",
       "      <th>서울/도봉</th>\n",
       "      <td>8145</td>\n",
       "      <td>368298</td>\n",
       "      <td>38185</td>\n",
       "      <td>17792</td>\n",
       "      <td>3425</td>\n",
       "      <td>16.1</td>\n",
       "      <td>26.9</td>\n",
       "      <td>0.6</td>\n",
       "      <td>228</td>\n",
       "      <td>8463</td>\n",
       "      <td>...</td>\n",
       "      <td>234</td>\n",
       "      <td>7618</td>\n",
       "      <td>348220</td>\n",
       "      <td>50466</td>\n",
       "      <td>16848</td>\n",
       "      <td>3213</td>\n",
       "      <td>17.4</td>\n",
       "      <td>22.7</td>\n",
       "      <td>1.1</td>\n",
       "      <td>243</td>\n",
       "    </tr>\n",
       "  </tbody>\n",
       "</table>\n",
       "<p>10 rows × 63 columns</p>\n",
       "</div>"
      ],
      "text/plain": [
       "       2010crime  2010population  2010grand  2010population_density  \\\n",
       "지역/연도                                                                 \n",
       "서울/강남      37863          570095      44095                   14418   \n",
       "서울/강동      12589          491871      39413                   20011   \n",
       "서울/강북      11355          346520      41641                   14677   \n",
       "서울/강서      17778          574127      50189                   13861   \n",
       "서울/관악      16182          531434      50350                   17972   \n",
       "서울/광진      13443          375463      32034                   22008   \n",
       "서울/구로      13986          423736      38829                   21060   \n",
       "서울/금천       9472          245195      23675                   18861   \n",
       "서울/노원      12631          611230      56977                   17247   \n",
       "서울/도봉       8145          368298      38185                   17792   \n",
       "\n",
       "       2010foreigner  2010drink  2010smoke  2010academe  2010grdp  2011crime  \\\n",
       "지역/연도                                                                          \n",
       "서울/강남          12328       11.3       19.2          3.2      4601      38915   \n",
       "서울/강동           6444       19.9       26.7          1.5       582      13814   \n",
       "서울/강북           4497       12.5       26.0          0.8       252      11610   \n",
       "서울/강서           8309       12.7       22.3          1.2       706      18808   \n",
       "서울/관악          21511       18.7       23.8          1.0       447      17000   \n",
       "서울/광진          14857       14.7       25.3          1.2       513      13663   \n",
       "서울/구로          32391       18.2       23.1          1.0       960      16475   \n",
       "서울/금천          21368       22.0       26.5          1.0      1130      10740   \n",
       "서울/노원           5630       17.3       24.5          0.6       413      12830   \n",
       "서울/도봉           3425       16.1       26.9          0.6       228       8463   \n",
       "\n",
       "       ...  2015grdp  2016crime  2016population  2016grand  \\\n",
       "지역/연도  ...                                                   \n",
       "서울/강남  ...      5414      14152          567115      61822   \n",
       "서울/강동  ...       640      15140          444168      53121   \n",
       "서울/강북  ...       234      12725          327195      53964   \n",
       "서울/강서  ...       873       9267          595485      70889   \n",
       "서울/관악  ...       470      13869          506851      66659   \n",
       "서울/광진  ...       503      13659          357215      41292   \n",
       "서울/구로  ...      1017      13329          417551      55159   \n",
       "서울/금천  ...      1222      11615          235386      31976   \n",
       "서울/노원  ...       445      10857          567581      70819   \n",
       "서울/도봉  ...       234       7618          348220      50466   \n",
       "\n",
       "       2016population_density  2016foreigner 2016drink  2016smoke  \\\n",
       "지역/연도                                                               \n",
       "서울/강남                   14357           9762      13.9       17.4   \n",
       "서울/강동                   18063           7006      13.8       19.5   \n",
       "서울/강북                   13866           5243      19.2       21.5   \n",
       "서울/강서                   14371          10309      14.0       19.6   \n",
       "서울/관악                   17141          27794      14.2       22.5   \n",
       "서울/광진                   20935          19231      17.4       20.5   \n",
       "서울/구로                   20754          46229      14.9       22.8   \n",
       "서울/금천                   18080          28434      20.5       25.6   \n",
       "서울/노원                   16016           5444      18.0       19.9   \n",
       "서울/도봉                   16848           3213      17.4       22.7   \n",
       "\n",
       "       2016academe  2016grdp  \n",
       "지역/연도                         \n",
       "서울/강남          3.7      5514  \n",
       "서울/강동          1.6       668  \n",
       "서울/강북          0.7       246  \n",
       "서울/강서          1.2       952  \n",
       "서울/관악          0.9       475  \n",
       "서울/광진          1.2       526  \n",
       "서울/구로          1.0      1077  \n",
       "서울/금천          0.9      1326  \n",
       "서울/노원          1.4       461  \n",
       "서울/도봉          1.1       243  \n",
       "\n",
       "[10 rows x 63 columns]"
      ]
     },
     "execution_count": 3,
     "metadata": {},
     "output_type": "execute_result"
    }
   ],
   "source": [
    "df=pd.read_csv('data5.csv',encoding=\"UTF-8\",index_col=0)\n",
    "df.head(10)"
   ]
  },
  {
   "cell_type": "code",
   "execution_count": 4,
   "metadata": {},
   "outputs": [
    {
     "data": {
      "text/html": [
       "<div>\n",
       "<style scoped>\n",
       "    .dataframe tbody tr th:only-of-type {\n",
       "        vertical-align: middle;\n",
       "    }\n",
       "\n",
       "    .dataframe tbody tr th {\n",
       "        vertical-align: top;\n",
       "    }\n",
       "\n",
       "    .dataframe thead th {\n",
       "        text-align: right;\n",
       "    }\n",
       "</style>\n",
       "<table border=\"1\" class=\"dataframe\">\n",
       "  <thead>\n",
       "    <tr style=\"text-align: right;\">\n",
       "      <th></th>\n",
       "      <th>2010crime</th>\n",
       "      <th>2010population</th>\n",
       "      <th>2010grand</th>\n",
       "      <th>2010population_density</th>\n",
       "      <th>2010foreigner</th>\n",
       "      <th>2010drink</th>\n",
       "      <th>2010smoke</th>\n",
       "      <th>2010academe</th>\n",
       "      <th>2010grdp</th>\n",
       "    </tr>\n",
       "    <tr>\n",
       "      <th>지역/연도</th>\n",
       "      <th></th>\n",
       "      <th></th>\n",
       "      <th></th>\n",
       "      <th></th>\n",
       "      <th></th>\n",
       "      <th></th>\n",
       "      <th></th>\n",
       "      <th></th>\n",
       "      <th></th>\n",
       "    </tr>\n",
       "  </thead>\n",
       "  <tbody>\n",
       "    <tr>\n",
       "      <th>서울/강남</th>\n",
       "      <td>37863</td>\n",
       "      <td>570095</td>\n",
       "      <td>44095</td>\n",
       "      <td>14418</td>\n",
       "      <td>12328</td>\n",
       "      <td>11.3</td>\n",
       "      <td>19.2</td>\n",
       "      <td>3.2</td>\n",
       "      <td>4601</td>\n",
       "    </tr>\n",
       "    <tr>\n",
       "      <th>서울/강동</th>\n",
       "      <td>12589</td>\n",
       "      <td>491871</td>\n",
       "      <td>39413</td>\n",
       "      <td>20011</td>\n",
       "      <td>6444</td>\n",
       "      <td>19.9</td>\n",
       "      <td>26.7</td>\n",
       "      <td>1.5</td>\n",
       "      <td>582</td>\n",
       "    </tr>\n",
       "    <tr>\n",
       "      <th>서울/강북</th>\n",
       "      <td>11355</td>\n",
       "      <td>346520</td>\n",
       "      <td>41641</td>\n",
       "      <td>14677</td>\n",
       "      <td>4497</td>\n",
       "      <td>12.5</td>\n",
       "      <td>26.0</td>\n",
       "      <td>0.8</td>\n",
       "      <td>252</td>\n",
       "    </tr>\n",
       "    <tr>\n",
       "      <th>서울/강서</th>\n",
       "      <td>17778</td>\n",
       "      <td>574127</td>\n",
       "      <td>50189</td>\n",
       "      <td>13861</td>\n",
       "      <td>8309</td>\n",
       "      <td>12.7</td>\n",
       "      <td>22.3</td>\n",
       "      <td>1.2</td>\n",
       "      <td>706</td>\n",
       "    </tr>\n",
       "    <tr>\n",
       "      <th>서울/관악</th>\n",
       "      <td>16182</td>\n",
       "      <td>531434</td>\n",
       "      <td>50350</td>\n",
       "      <td>17972</td>\n",
       "      <td>21511</td>\n",
       "      <td>18.7</td>\n",
       "      <td>23.8</td>\n",
       "      <td>1.0</td>\n",
       "      <td>447</td>\n",
       "    </tr>\n",
       "  </tbody>\n",
       "</table>\n",
       "</div>"
      ],
      "text/plain": [
       "       2010crime  2010population  2010grand  2010population_density  \\\n",
       "지역/연도                                                                 \n",
       "서울/강남      37863          570095      44095                   14418   \n",
       "서울/강동      12589          491871      39413                   20011   \n",
       "서울/강북      11355          346520      41641                   14677   \n",
       "서울/강서      17778          574127      50189                   13861   \n",
       "서울/관악      16182          531434      50350                   17972   \n",
       "\n",
       "       2010foreigner  2010drink  2010smoke  2010academe  2010grdp  \n",
       "지역/연도                                                              \n",
       "서울/강남          12328       11.3       19.2          3.2      4601  \n",
       "서울/강동           6444       19.9       26.7          1.5       582  \n",
       "서울/강북           4497       12.5       26.0          0.8       252  \n",
       "서울/강서           8309       12.7       22.3          1.2       706  \n",
       "서울/관악          21511       18.7       23.8          1.0       447  "
      ]
     },
     "execution_count": 4,
     "metadata": {},
     "output_type": "execute_result"
    },
    {
     "data": {
      "text/html": [
       "<div>\n",
       "<style scoped>\n",
       "    .dataframe tbody tr th:only-of-type {\n",
       "        vertical-align: middle;\n",
       "    }\n",
       "\n",
       "    .dataframe tbody tr th {\n",
       "        vertical-align: top;\n",
       "    }\n",
       "\n",
       "    .dataframe thead th {\n",
       "        text-align: right;\n",
       "    }\n",
       "</style>\n",
       "<table border=\"1\" class=\"dataframe\">\n",
       "  <thead>\n",
       "    <tr style=\"text-align: right;\">\n",
       "      <th></th>\n",
       "      <th>2010crime</th>\n",
       "      <th>2010population</th>\n",
       "      <th>2010grand</th>\n",
       "      <th>2010population_density</th>\n",
       "      <th>2010foreigner</th>\n",
       "      <th>2010drink</th>\n",
       "      <th>2010smoke</th>\n",
       "      <th>2010academe</th>\n",
       "      <th>2010grdp</th>\n",
       "    </tr>\n",
       "    <tr>\n",
       "      <th>지역/연도</th>\n",
       "      <th></th>\n",
       "      <th></th>\n",
       "      <th></th>\n",
       "      <th></th>\n",
       "      <th></th>\n",
       "      <th></th>\n",
       "      <th></th>\n",
       "      <th></th>\n",
       "      <th></th>\n",
       "    </tr>\n",
       "  </thead>\n",
       "  <tbody>\n",
       "    <tr>\n",
       "      <th>춘천</th>\n",
       "      <td>11864</td>\n",
       "      <td>269950</td>\n",
       "      <td>35384</td>\n",
       "      <td>242</td>\n",
       "      <td>3180</td>\n",
       "      <td>9.1</td>\n",
       "      <td>26.6</td>\n",
       "      <td>1.7</td>\n",
       "      <td>472</td>\n",
       "    </tr>\n",
       "    <tr>\n",
       "      <th>충주</th>\n",
       "      <td>8157</td>\n",
       "      <td>208481</td>\n",
       "      <td>29968</td>\n",
       "      <td>212</td>\n",
       "      <td>2829</td>\n",
       "      <td>14.4</td>\n",
       "      <td>27.8</td>\n",
       "      <td>1.7</td>\n",
       "      <td>422</td>\n",
       "    </tr>\n",
       "    <tr>\n",
       "      <th>파주</th>\n",
       "      <td>11441</td>\n",
       "      <td>355632</td>\n",
       "      <td>38458</td>\n",
       "      <td>529</td>\n",
       "      <td>9267</td>\n",
       "      <td>18.5</td>\n",
       "      <td>29.2</td>\n",
       "      <td>1.2</td>\n",
       "      <td>1002</td>\n",
       "    </tr>\n",
       "    <tr>\n",
       "      <th>평택</th>\n",
       "      <td>17395</td>\n",
       "      <td>419457</td>\n",
       "      <td>42381</td>\n",
       "      <td>920</td>\n",
       "      <td>12385</td>\n",
       "      <td>17.8</td>\n",
       "      <td>28.7</td>\n",
       "      <td>1.6</td>\n",
       "      <td>2048</td>\n",
       "    </tr>\n",
       "    <tr>\n",
       "      <th>포항</th>\n",
       "      <td>21754</td>\n",
       "      <td>514755</td>\n",
       "      <td>51026</td>\n",
       "      <td>456</td>\n",
       "      <td>4535</td>\n",
       "      <td>19.4</td>\n",
       "      <td>26.6</td>\n",
       "      <td>1.5</td>\n",
       "      <td>1725</td>\n",
       "    </tr>\n",
       "  </tbody>\n",
       "</table>\n",
       "</div>"
      ],
      "text/plain": [
       "       2010crime  2010population  2010grand  2010population_density  \\\n",
       "지역/연도                                                                 \n",
       "춘천         11864          269950      35384                     242   \n",
       "충주          8157          208481      29968                     212   \n",
       "파주         11441          355632      38458                     529   \n",
       "평택         17395          419457      42381                     920   \n",
       "포항         21754          514755      51026                     456   \n",
       "\n",
       "       2010foreigner  2010drink  2010smoke  2010academe  2010grdp  \n",
       "지역/연도                                                              \n",
       "춘천              3180        9.1       26.6          1.7       472  \n",
       "충주              2829       14.4       27.8          1.7       422  \n",
       "파주              9267       18.5       29.2          1.2      1002  \n",
       "평택             12385       17.8       28.7          1.6      2048  \n",
       "포항              4535       19.4       26.6          1.5      1725  "
      ]
     },
     "execution_count": 4,
     "metadata": {},
     "output_type": "execute_result"
    }
   ],
   "source": [
    "df_index = df.index\n",
    "df_columns = df.columns[0:9]\n",
    "df1 =df[df_columns]\n",
    "df1.head()\n",
    "df1.tail()"
   ]
  },
  {
   "cell_type": "code",
   "execution_count": 12,
   "metadata": {
    "scrolled": true
   },
   "outputs": [
    {
     "data": {
      "text/html": [
       "<div>\n",
       "<style scoped>\n",
       "    .dataframe tbody tr th:only-of-type {\n",
       "        vertical-align: middle;\n",
       "    }\n",
       "\n",
       "    .dataframe tbody tr th {\n",
       "        vertical-align: top;\n",
       "    }\n",
       "\n",
       "    .dataframe thead th {\n",
       "        text-align: right;\n",
       "    }\n",
       "</style>\n",
       "<table border=\"1\" class=\"dataframe\">\n",
       "  <thead>\n",
       "    <tr style=\"text-align: right;\">\n",
       "      <th></th>\n",
       "      <th>foreigner</th>\n",
       "      <th>grand</th>\n",
       "      <th>grdp</th>\n",
       "      <th>drink</th>\n",
       "      <th>smoke</th>\n",
       "      <th>academe</th>\n",
       "      <th>crime</th>\n",
       "    </tr>\n",
       "    <tr>\n",
       "      <th>지역/연도</th>\n",
       "      <th></th>\n",
       "      <th></th>\n",
       "      <th></th>\n",
       "      <th></th>\n",
       "      <th></th>\n",
       "      <th></th>\n",
       "      <th></th>\n",
       "    </tr>\n",
       "  </thead>\n",
       "  <tbody>\n",
       "    <tr>\n",
       "      <th>서울/강남</th>\n",
       "      <td>4.676175</td>\n",
       "      <td>0.278113</td>\n",
       "      <td>8.070585</td>\n",
       "      <td>11.3</td>\n",
       "      <td>19.2</td>\n",
       "      <td>3.2</td>\n",
       "      <td>1.893342</td>\n",
       "    </tr>\n",
       "    <tr>\n",
       "      <th>서울/강동</th>\n",
       "      <td>1.716361</td>\n",
       "      <td>0.283070</td>\n",
       "      <td>1.183237</td>\n",
       "      <td>19.9</td>\n",
       "      <td>26.7</td>\n",
       "      <td>1.5</td>\n",
       "      <td>0.939777</td>\n",
       "    </tr>\n",
       "    <tr>\n",
       "      <th>서울/강북</th>\n",
       "      <td>1.684183</td>\n",
       "      <td>0.346654</td>\n",
       "      <td>0.727231</td>\n",
       "      <td>12.5</td>\n",
       "      <td>26.0</td>\n",
       "      <td>0.8</td>\n",
       "      <td>1.186888</td>\n",
       "    </tr>\n",
       "    <tr>\n",
       "      <th>서울/강서</th>\n",
       "      <td>2.094506</td>\n",
       "      <td>0.295665</td>\n",
       "      <td>1.229693</td>\n",
       "      <td>12.7</td>\n",
       "      <td>22.3</td>\n",
       "      <td>1.2</td>\n",
       "      <td>1.130281</td>\n",
       "    </tr>\n",
       "    <tr>\n",
       "      <th>서울/관악</th>\n",
       "      <td>16.384098</td>\n",
       "      <td>0.307805</td>\n",
       "      <td>0.841120</td>\n",
       "      <td>18.7</td>\n",
       "      <td>23.8</td>\n",
       "      <td>1.0</td>\n",
       "      <td>1.113491</td>\n",
       "    </tr>\n",
       "    <tr>\n",
       "      <th>...</th>\n",
       "      <td>...</td>\n",
       "      <td>...</td>\n",
       "      <td>...</td>\n",
       "      <td>...</td>\n",
       "      <td>...</td>\n",
       "      <td>...</td>\n",
       "      <td>...</td>\n",
       "    </tr>\n",
       "    <tr>\n",
       "      <th>춘천</th>\n",
       "      <td>1.387674</td>\n",
       "      <td>0.362044</td>\n",
       "      <td>1.748472</td>\n",
       "      <td>9.1</td>\n",
       "      <td>26.6</td>\n",
       "      <td>1.7</td>\n",
       "      <td>1.480442</td>\n",
       "    </tr>\n",
       "    <tr>\n",
       "      <th>충주</th>\n",
       "      <td>1.841336</td>\n",
       "      <td>0.379137</td>\n",
       "      <td>2.024165</td>\n",
       "      <td>14.4</td>\n",
       "      <td>27.8</td>\n",
       "      <td>1.7</td>\n",
       "      <td>1.364199</td>\n",
       "    </tr>\n",
       "    <tr>\n",
       "      <th>파주</th>\n",
       "      <td>6.790108</td>\n",
       "      <td>0.328846</td>\n",
       "      <td>2.817519</td>\n",
       "      <td>18.5</td>\n",
       "      <td>29.2</td>\n",
       "      <td>1.2</td>\n",
       "      <td>1.168477</td>\n",
       "    </tr>\n",
       "    <tr>\n",
       "      <th>평택</th>\n",
       "      <td>8.718005</td>\n",
       "      <td>0.317864</td>\n",
       "      <td>4.882503</td>\n",
       "      <td>17.8</td>\n",
       "      <td>28.7</td>\n",
       "      <td>1.6</td>\n",
       "      <td>1.422392</td>\n",
       "    </tr>\n",
       "    <tr>\n",
       "      <th>포항</th>\n",
       "      <td>0.776164</td>\n",
       "      <td>0.314844</td>\n",
       "      <td>3.351109</td>\n",
       "      <td>19.4</td>\n",
       "      <td>26.6</td>\n",
       "      <td>1.5</td>\n",
       "      <td>1.441277</td>\n",
       "    </tr>\n",
       "  </tbody>\n",
       "</table>\n",
       "<p>117 rows × 7 columns</p>\n",
       "</div>"
      ],
      "text/plain": [
       "       foreigner     grand      grdp  drink  smoke  academe     crime\n",
       "지역/연도                                                                \n",
       "서울/강남   4.676175  0.278113  8.070585   11.3   19.2      3.2  1.893342\n",
       "서울/강동   1.716361  0.283070  1.183237   19.9   26.7      1.5  0.939777\n",
       "서울/강북   1.684183  0.346654  0.727231   12.5   26.0      0.8  1.186888\n",
       "서울/강서   2.094506  0.295665  1.229693   12.7   22.3      1.2  1.130281\n",
       "서울/관악  16.384098  0.307805  0.841120   18.7   23.8      1.0  1.113491\n",
       "...          ...       ...       ...    ...    ...      ...       ...\n",
       "춘천      1.387674  0.362044  1.748472    9.1   26.6      1.7  1.480442\n",
       "충주      1.841336  0.379137  2.024165   14.4   27.8      1.7  1.364199\n",
       "파주      6.790108  0.328846  2.817519   18.5   29.2      1.2  1.168477\n",
       "평택      8.718005  0.317864  4.882503   17.8   28.7      1.6  1.422392\n",
       "포항      0.776164  0.314844  3.351109   19.4   26.6      1.5  1.441277\n",
       "\n",
       "[117 rows x 7 columns]"
      ]
     },
     "execution_count": 12,
     "metadata": {},
     "output_type": "execute_result"
    }
   ],
   "source": [
    "df2 = pd.DataFrame({'foreigner':(df1['2010foreigner']/(df1['2010population'])*100)**2,\n",
    "                    'grand': (np.sqrt(df1['2010grand']/df1['2010population'])),\n",
    "                    'grdp' : ((df1['2010grdp'])/(df1['2010population']))*1000,\n",
    "                    'drink':(df['2010drink']),\n",
    "                    'smoke':(df['2010smoke']),\n",
    "                    'academe':(df['2010academe']),\n",
    "                    'crime':np.log((df1['2010crime']/df1['2010population'])*100)})\n",
    "df2"
   ]
  },
  {
   "cell_type": "code",
   "execution_count": 13,
   "metadata": {
    "scrolled": true
   },
   "outputs": [
    {
     "data": {
      "text/html": [
       "<div>\n",
       "<style scoped>\n",
       "    .dataframe tbody tr th:only-of-type {\n",
       "        vertical-align: middle;\n",
       "    }\n",
       "\n",
       "    .dataframe tbody tr th {\n",
       "        vertical-align: top;\n",
       "    }\n",
       "\n",
       "    .dataframe thead th {\n",
       "        text-align: right;\n",
       "    }\n",
       "</style>\n",
       "<table border=\"1\" class=\"dataframe\">\n",
       "  <thead>\n",
       "    <tr style=\"text-align: right;\">\n",
       "      <th></th>\n",
       "      <th>crime</th>\n",
       "      <th>drink</th>\n",
       "      <th>smoke</th>\n",
       "      <th>academe</th>\n",
       "      <th>foreigner</th>\n",
       "      <th>grand</th>\n",
       "      <th>grdp</th>\n",
       "    </tr>\n",
       "    <tr>\n",
       "      <th>지역/연도</th>\n",
       "      <th></th>\n",
       "      <th></th>\n",
       "      <th></th>\n",
       "      <th></th>\n",
       "      <th></th>\n",
       "      <th></th>\n",
       "      <th></th>\n",
       "    </tr>\n",
       "  </thead>\n",
       "  <tbody>\n",
       "    <tr>\n",
       "      <th>서울/강남</th>\n",
       "      <td>1.893342</td>\n",
       "      <td>11.3</td>\n",
       "      <td>19.2</td>\n",
       "      <td>3.2</td>\n",
       "      <td>4.676175</td>\n",
       "      <td>0.278113</td>\n",
       "      <td>8.070585</td>\n",
       "    </tr>\n",
       "    <tr>\n",
       "      <th>서울/강동</th>\n",
       "      <td>0.939777</td>\n",
       "      <td>19.9</td>\n",
       "      <td>26.7</td>\n",
       "      <td>1.5</td>\n",
       "      <td>1.716361</td>\n",
       "      <td>0.283070</td>\n",
       "      <td>1.183237</td>\n",
       "    </tr>\n",
       "    <tr>\n",
       "      <th>서울/강북</th>\n",
       "      <td>1.186888</td>\n",
       "      <td>12.5</td>\n",
       "      <td>26.0</td>\n",
       "      <td>0.8</td>\n",
       "      <td>1.684183</td>\n",
       "      <td>0.346654</td>\n",
       "      <td>0.727231</td>\n",
       "    </tr>\n",
       "    <tr>\n",
       "      <th>서울/강서</th>\n",
       "      <td>1.130281</td>\n",
       "      <td>12.7</td>\n",
       "      <td>22.3</td>\n",
       "      <td>1.2</td>\n",
       "      <td>2.094506</td>\n",
       "      <td>0.295665</td>\n",
       "      <td>1.229693</td>\n",
       "    </tr>\n",
       "    <tr>\n",
       "      <th>서울/관악</th>\n",
       "      <td>1.113491</td>\n",
       "      <td>18.7</td>\n",
       "      <td>23.8</td>\n",
       "      <td>1.0</td>\n",
       "      <td>16.384098</td>\n",
       "      <td>0.307805</td>\n",
       "      <td>0.841120</td>\n",
       "    </tr>\n",
       "    <tr>\n",
       "      <th>...</th>\n",
       "      <td>...</td>\n",
       "      <td>...</td>\n",
       "      <td>...</td>\n",
       "      <td>...</td>\n",
       "      <td>...</td>\n",
       "      <td>...</td>\n",
       "      <td>...</td>\n",
       "    </tr>\n",
       "    <tr>\n",
       "      <th>춘천</th>\n",
       "      <td>1.480442</td>\n",
       "      <td>9.1</td>\n",
       "      <td>26.6</td>\n",
       "      <td>1.7</td>\n",
       "      <td>1.387674</td>\n",
       "      <td>0.362044</td>\n",
       "      <td>1.748472</td>\n",
       "    </tr>\n",
       "    <tr>\n",
       "      <th>충주</th>\n",
       "      <td>1.364199</td>\n",
       "      <td>14.4</td>\n",
       "      <td>27.8</td>\n",
       "      <td>1.7</td>\n",
       "      <td>1.841336</td>\n",
       "      <td>0.379137</td>\n",
       "      <td>2.024165</td>\n",
       "    </tr>\n",
       "    <tr>\n",
       "      <th>파주</th>\n",
       "      <td>1.168477</td>\n",
       "      <td>18.5</td>\n",
       "      <td>29.2</td>\n",
       "      <td>1.2</td>\n",
       "      <td>6.790108</td>\n",
       "      <td>0.328846</td>\n",
       "      <td>2.817519</td>\n",
       "    </tr>\n",
       "    <tr>\n",
       "      <th>평택</th>\n",
       "      <td>1.422392</td>\n",
       "      <td>17.8</td>\n",
       "      <td>28.7</td>\n",
       "      <td>1.6</td>\n",
       "      <td>8.718005</td>\n",
       "      <td>0.317864</td>\n",
       "      <td>4.882503</td>\n",
       "    </tr>\n",
       "    <tr>\n",
       "      <th>포항</th>\n",
       "      <td>1.441277</td>\n",
       "      <td>19.4</td>\n",
       "      <td>26.6</td>\n",
       "      <td>1.5</td>\n",
       "      <td>0.776164</td>\n",
       "      <td>0.314844</td>\n",
       "      <td>3.351109</td>\n",
       "    </tr>\n",
       "  </tbody>\n",
       "</table>\n",
       "<p>117 rows × 7 columns</p>\n",
       "</div>"
      ],
      "text/plain": [
       "          crime  drink  smoke  academe  foreigner     grand      grdp\n",
       "지역/연도                                                                \n",
       "서울/강남  1.893342   11.3   19.2      3.2   4.676175  0.278113  8.070585\n",
       "서울/강동  0.939777   19.9   26.7      1.5   1.716361  0.283070  1.183237\n",
       "서울/강북  1.186888   12.5   26.0      0.8   1.684183  0.346654  0.727231\n",
       "서울/강서  1.130281   12.7   22.3      1.2   2.094506  0.295665  1.229693\n",
       "서울/관악  1.113491   18.7   23.8      1.0  16.384098  0.307805  0.841120\n",
       "...         ...    ...    ...      ...        ...       ...       ...\n",
       "춘천     1.480442    9.1   26.6      1.7   1.387674  0.362044  1.748472\n",
       "충주     1.364199   14.4   27.8      1.7   1.841336  0.379137  2.024165\n",
       "파주     1.168477   18.5   29.2      1.2   6.790108  0.328846  2.817519\n",
       "평택     1.422392   17.8   28.7      1.6   8.718005  0.317864  4.882503\n",
       "포항     1.441277   19.4   26.6      1.5   0.776164  0.314844  3.351109\n",
       "\n",
       "[117 rows x 7 columns]"
      ]
     },
     "execution_count": 13,
     "metadata": {},
     "output_type": "execute_result"
    }
   ],
   "source": [
    "df3 = df1.drop(df1.columns[[0,1,2,3,4,5,6,7,8]],axis = 1)\n",
    "df2010 = df3.join(df2)\n",
    "df2010 = df2010[['crime','drink','smoke','academe','foreigner','grand','grdp']]\n",
    "df2010"
   ]
  },
  {
   "cell_type": "code",
   "execution_count": 7,
   "metadata": {
    "scrolled": true
   },
   "outputs": [
    {
     "data": {
      "text/plain": [
       "<matplotlib.collections.PathCollection at 0x1acb0e86088>"
      ]
     },
     "execution_count": 7,
     "metadata": {},
     "output_type": "execute_result"
    },
    {
     "data": {
      "text/plain": [
       "Text(0.5, 1.0, '고위험음주율')"
      ]
     },
     "execution_count": 7,
     "metadata": {},
     "output_type": "execute_result"
    },
    {
     "data": {
      "text/plain": [
       "<matplotlib.collections.PathCollection at 0x1acb1320988>"
      ]
     },
     "execution_count": 7,
     "metadata": {},
     "output_type": "execute_result"
    },
    {
     "data": {
      "text/plain": [
       "Text(0.5, 1.0, '흡연율')"
      ]
     },
     "execution_count": 7,
     "metadata": {},
     "output_type": "execute_result"
    },
    {
     "data": {
      "text/plain": [
       "<matplotlib.collections.PathCollection at 0x1acb132ca88>"
      ]
     },
     "execution_count": 7,
     "metadata": {},
     "output_type": "execute_result"
    },
    {
     "data": {
      "text/plain": [
       "Text(0.5, 1.0, '학원수')"
      ]
     },
     "execution_count": 7,
     "metadata": {},
     "output_type": "execute_result"
    },
    {
     "data": {
      "text/plain": [
       "<matplotlib.collections.PathCollection at 0x1acb132f048>"
      ]
     },
     "execution_count": 7,
     "metadata": {},
     "output_type": "execute_result"
    },
    {
     "data": {
      "text/plain": [
       "Text(0.5, 1.0, 'GRDP')"
      ]
     },
     "execution_count": 7,
     "metadata": {},
     "output_type": "execute_result"
    },
    {
     "data": {
      "text/plain": [
       "<matplotlib.collections.PathCollection at 0x1acb132fd88>"
      ]
     },
     "execution_count": 7,
     "metadata": {},
     "output_type": "execute_result"
    },
    {
     "data": {
      "text/plain": [
       "Text(0.5, 1.0, '외국인')"
      ]
     },
     "execution_count": 7,
     "metadata": {},
     "output_type": "execute_result"
    },
    {
     "data": {
      "text/plain": [
       "<matplotlib.collections.PathCollection at 0x1acb13348c8>"
      ]
     },
     "execution_count": 7,
     "metadata": {},
     "output_type": "execute_result"
    },
    {
     "data": {
      "text/plain": [
       "Text(0.5, 1.0, '노인인구')"
      ]
     },
     "execution_count": 7,
     "metadata": {},
     "output_type": "execute_result"
    },
    {
     "name": "stderr",
     "output_type": "stream",
     "text": [
      "C:\\ProgramData\\Anaconda3\\lib\\site-packages\\matplotlib\\backends\\backend_agg.py:211: RuntimeWarning: Glyph 8722 missing from current font.\n",
      "  font.set_text(s, 0.0, flags=flags)\n",
      "C:\\ProgramData\\Anaconda3\\lib\\site-packages\\matplotlib\\backends\\backend_agg.py:180: RuntimeWarning: Glyph 8722 missing from current font.\n",
      "  font.set_text(s, 0, flags=flags)\n"
     ]
    },
    {
     "data": {
      "image/png": "[encoded data removed]",
      "text/plain": [
       "<Figure size 1296x576 with 8 Axes>"
      ]
     },
     "metadata": {},
     "output_type": "display_data"
    }
   ],
   "source": [
    "fig, ax = plt.subplots(2,4, figsize =(18,8))\n",
    "ax[0,0].scatter(df2010['drink'],df2010['crime'])\n",
    "ax[0,0].set_title('고위험음주율')\n",
    "ax[0,1].scatter(df2010['smoke'],df2010['crime'])\n",
    "ax[0,1].set_title('흡연율')\n",
    "ax[0,2].scatter(df2010['academe'],df2010['crime'])\n",
    "ax[0,2].set_title('학원수')\n",
    "ax[0,3].scatter(df2010['grdp'],df2010['crime'])\n",
    "ax[0,3].set_title('GRDP')\n",
    "ax[1,0].scatter(df2010['foreigner'],df2010['crime'])\n",
    "ax[1,0].set_title('외국인')\n",
    "ax[1,1].scatter(df2010['grand'],df2010['crime'])\n",
    "ax[1,1].set_title('노인인구')\n",
    "plt.show()"
   ]
  },
  {
   "cell_type": "code",
   "execution_count": 8,
   "metadata": {},
   "outputs": [
    {
     "data": {
      "text/html": [
       "<div>\n",
       "<style scoped>\n",
       "    .dataframe tbody tr th:only-of-type {\n",
       "        vertical-align: middle;\n",
       "    }\n",
       "\n",
       "    .dataframe tbody tr th {\n",
       "        vertical-align: top;\n",
       "    }\n",
       "\n",
       "    .dataframe thead th {\n",
       "        text-align: right;\n",
       "    }\n",
       "</style>\n",
       "<table border=\"1\" class=\"dataframe\">\n",
       "  <thead>\n",
       "    <tr style=\"text-align: right;\">\n",
       "      <th></th>\n",
       "      <th>crime</th>\n",
       "      <th>drink</th>\n",
       "      <th>smoke</th>\n",
       "      <th>academe</th>\n",
       "      <th>foreigner</th>\n",
       "      <th>grand</th>\n",
       "      <th>grdp</th>\n",
       "    </tr>\n",
       "  </thead>\n",
       "  <tbody>\n",
       "    <tr>\n",
       "      <th>count</th>\n",
       "      <td>117.00</td>\n",
       "      <td>117.00</td>\n",
       "      <td>117.00</td>\n",
       "      <td>117.00</td>\n",
       "      <td>117.00</td>\n",
       "      <td>117.00</td>\n",
       "      <td>117.00</td>\n",
       "    </tr>\n",
       "    <tr>\n",
       "      <th>mean</th>\n",
       "      <td>1.24</td>\n",
       "      <td>14.91</td>\n",
       "      <td>25.25</td>\n",
       "      <td>1.51</td>\n",
       "      <td>6.93</td>\n",
       "      <td>0.32</td>\n",
       "      <td>2.95</td>\n",
       "    </tr>\n",
       "    <tr>\n",
       "      <th>std</th>\n",
       "      <td>0.47</td>\n",
       "      <td>3.82</td>\n",
       "      <td>2.37</td>\n",
       "      <td>0.58</td>\n",
       "      <td>15.29</td>\n",
       "      <td>0.05</td>\n",
       "      <td>3.65</td>\n",
       "    </tr>\n",
       "    <tr>\n",
       "      <th>min</th>\n",
       "      <td>-0.90</td>\n",
       "      <td>5.10</td>\n",
       "      <td>19.20</td>\n",
       "      <td>0.20</td>\n",
       "      <td>0.09</td>\n",
       "      <td>0.15</td>\n",
       "      <td>0.62</td>\n",
       "    </tr>\n",
       "    <tr>\n",
       "      <th>25%</th>\n",
       "      <td>1.06</td>\n",
       "      <td>12.20</td>\n",
       "      <td>23.50</td>\n",
       "      <td>1.10</td>\n",
       "      <td>0.92</td>\n",
       "      <td>0.28</td>\n",
       "      <td>1.33</td>\n",
       "    </tr>\n",
       "    <tr>\n",
       "      <th>50%</th>\n",
       "      <td>1.27</td>\n",
       "      <td>14.70</td>\n",
       "      <td>25.30</td>\n",
       "      <td>1.50</td>\n",
       "      <td>1.83</td>\n",
       "      <td>0.31</td>\n",
       "      <td>1.92</td>\n",
       "    </tr>\n",
       "    <tr>\n",
       "      <th>75%</th>\n",
       "      <td>1.44</td>\n",
       "      <td>17.60</td>\n",
       "      <td>26.80</td>\n",
       "      <td>1.80</td>\n",
       "      <td>4.66</td>\n",
       "      <td>0.35</td>\n",
       "      <td>2.90</td>\n",
       "    </tr>\n",
       "    <tr>\n",
       "      <th>max</th>\n",
       "      <td>2.58</td>\n",
       "      <td>23.80</td>\n",
       "      <td>30.80</td>\n",
       "      <td>3.60</td>\n",
       "      <td>110.24</td>\n",
       "      <td>0.49</td>\n",
       "      <td>33.25</td>\n",
       "    </tr>\n",
       "  </tbody>\n",
       "</table>\n",
       "</div>"
      ],
      "text/plain": [
       "        crime   drink   smoke  academe  foreigner   grand    grdp\n",
       "count  117.00  117.00  117.00   117.00     117.00  117.00  117.00\n",
       "mean     1.24   14.91   25.25     1.51       6.93    0.32    2.95\n",
       "std      0.47    3.82    2.37     0.58      15.29    0.05    3.65\n",
       "min     -0.90    5.10   19.20     0.20       0.09    0.15    0.62\n",
       "25%      1.06   12.20   23.50     1.10       0.92    0.28    1.33\n",
       "50%      1.27   14.70   25.30     1.50       1.83    0.31    1.92\n",
       "75%      1.44   17.60   26.80     1.80       4.66    0.35    2.90\n",
       "max      2.58   23.80   30.80     3.60     110.24    0.49   33.25"
      ]
     },
     "execution_count": 8,
     "metadata": {},
     "output_type": "execute_result"
    }
   ],
   "source": [
    "df2010.describe(include = 'all').round(2)"
   ]
  },
  {
   "cell_type": "code",
   "execution_count": 9,
   "metadata": {
    "scrolled": true
   },
   "outputs": [
    {
     "data": {
      "text/html": [
       "<div>\n",
       "<style scoped>\n",
       "    .dataframe tbody tr th:only-of-type {\n",
       "        vertical-align: middle;\n",
       "    }\n",
       "\n",
       "    .dataframe tbody tr th {\n",
       "        vertical-align: top;\n",
       "    }\n",
       "\n",
       "    .dataframe thead th {\n",
       "        text-align: right;\n",
       "    }\n",
       "</style>\n",
       "<table border=\"1\" class=\"dataframe\">\n",
       "  <thead>\n",
       "    <tr style=\"text-align: right;\">\n",
       "      <th></th>\n",
       "      <th>crime</th>\n",
       "      <th>drink</th>\n",
       "      <th>smoke</th>\n",
       "      <th>academe</th>\n",
       "      <th>foreigner</th>\n",
       "      <th>grand</th>\n",
       "      <th>grdp</th>\n",
       "    </tr>\n",
       "  </thead>\n",
       "  <tbody>\n",
       "    <tr>\n",
       "      <th>crime</th>\n",
       "      <td>1.00</td>\n",
       "      <td>0.21</td>\n",
       "      <td>0.22</td>\n",
       "      <td>0.21</td>\n",
       "      <td>0.15</td>\n",
       "      <td>0.32</td>\n",
       "      <td>0.42</td>\n",
       "    </tr>\n",
       "    <tr>\n",
       "      <th>drink</th>\n",
       "      <td>0.21</td>\n",
       "      <td>1.00</td>\n",
       "      <td>0.28</td>\n",
       "      <td>-0.34</td>\n",
       "      <td>0.01</td>\n",
       "      <td>0.26</td>\n",
       "      <td>-0.07</td>\n",
       "    </tr>\n",
       "    <tr>\n",
       "      <th>smoke</th>\n",
       "      <td>0.22</td>\n",
       "      <td>0.28</td>\n",
       "      <td>1.00</td>\n",
       "      <td>-0.15</td>\n",
       "      <td>-0.06</td>\n",
       "      <td>0.21</td>\n",
       "      <td>-0.02</td>\n",
       "    </tr>\n",
       "    <tr>\n",
       "      <th>academe</th>\n",
       "      <td>0.21</td>\n",
       "      <td>-0.34</td>\n",
       "      <td>-0.15</td>\n",
       "      <td>1.00</td>\n",
       "      <td>-0.26</td>\n",
       "      <td>-0.27</td>\n",
       "      <td>0.14</td>\n",
       "    </tr>\n",
       "    <tr>\n",
       "      <th>foreigner</th>\n",
       "      <td>0.15</td>\n",
       "      <td>0.01</td>\n",
       "      <td>-0.06</td>\n",
       "      <td>-0.26</td>\n",
       "      <td>1.00</td>\n",
       "      <td>-0.10</td>\n",
       "      <td>0.49</td>\n",
       "    </tr>\n",
       "    <tr>\n",
       "      <th>grand</th>\n",
       "      <td>0.32</td>\n",
       "      <td>0.26</td>\n",
       "      <td>0.21</td>\n",
       "      <td>-0.27</td>\n",
       "      <td>-0.10</td>\n",
       "      <td>1.00</td>\n",
       "      <td>0.02</td>\n",
       "    </tr>\n",
       "    <tr>\n",
       "      <th>grdp</th>\n",
       "      <td>0.42</td>\n",
       "      <td>-0.07</td>\n",
       "      <td>-0.02</td>\n",
       "      <td>0.14</td>\n",
       "      <td>0.49</td>\n",
       "      <td>0.02</td>\n",
       "      <td>1.00</td>\n",
       "    </tr>\n",
       "  </tbody>\n",
       "</table>\n",
       "</div>"
      ],
      "text/plain": [
       "           crime  drink  smoke  academe  foreigner  grand  grdp\n",
       "crime       1.00   0.21   0.22     0.21       0.15   0.32  0.42\n",
       "drink       0.21   1.00   0.28    -0.34       0.01   0.26 -0.07\n",
       "smoke       0.22   0.28   1.00    -0.15      -0.06   0.21 -0.02\n",
       "academe     0.21  -0.34  -0.15     1.00      -0.26  -0.27  0.14\n",
       "foreigner   0.15   0.01  -0.06    -0.26       1.00  -0.10  0.49\n",
       "grand       0.32   0.26   0.21    -0.27      -0.10   1.00  0.02\n",
       "grdp        0.42  -0.07  -0.02     0.14       0.49   0.02  1.00"
      ]
     },
     "execution_count": 9,
     "metadata": {},
     "output_type": "execute_result"
    }
   ],
   "source": [
    "corr2010 = df2010.corr(method='spearman').round(2)\n",
    "corr2010"
   ]
  },
  {
   "cell_type": "code",
   "execution_count": 10,
   "metadata": {},
   "outputs": [
    {
     "name": "stderr",
     "output_type": "stream",
     "text": [
      "C:\\ProgramData\\Anaconda3\\lib\\site-packages\\matplotlib\\backends\\backend_agg.py:211: RuntimeWarning: Glyph 8722 missing from current font.\n",
      "  font.set_text(s, 0.0, flags=flags)\n",
      "C:\\ProgramData\\Anaconda3\\lib\\site-packages\\matplotlib\\backends\\backend_agg.py:180: RuntimeWarning: Glyph 8722 missing from current font.\n",
      "  font.set_text(s, 0, flags=flags)\n"
     ]
    },
    {
     "data": {
      "text/plain": [
       "<matplotlib.axes._subplots.AxesSubplot at 0x1acb177a088>"
      ]
     },
     "execution_count": 10,
     "metadata": {},
     "output_type": "execute_result"
    },
    {
     "data": {
      "image/png": "[encoded data removed]",
      "text/plain": [
       "<Figure size 432x288 with 2 Axes>"
      ]
     },
     "metadata": {},
     "output_type": "display_data"
    }
   ],
   "source": [
    "sn.heatmap(data = corr2010, annot=True, linewidths = 0.5)\n",
    "plt.show()"
   ]
  },
  {
   "cell_type": "code",
   "execution_count": 347,
   "metadata": {},
   "outputs": [],
   "source": [
    "class static():\n",
    "    def number(self, a):\n",
    "        print('표본개수 :{0}'.format(len(a)))\n",
    "        print('평균 :{0}'.format(np.mean(a)))\n",
    "        print('표준편차 :{0}'.format(np.std(a)))\n",
    "        print('최대값 :{0}'.format(np.max(a)))\n",
    "        print('최소값 :{0}'.format(np.min(a)))\n",
    "        plt.figure(1)\n",
    "        plt.hist(a)\n",
    "        plt.show()"
   ]
  },
  {
   "cell_type": "code",
   "execution_count": 348,
   "metadata": {},
   "outputs": [],
   "source": [
    "statics = static()"
   ]
  },
  {
   "cell_type": "code",
   "execution_count": 349,
   "metadata": {},
   "outputs": [
    {
     "name": "stdout",
     "output_type": "stream",
     "text": [
      "범죄율\n",
      "표본개수 :117\n",
      "평균 :1.2356774565056439\n",
      "표준편차 :0.4728090647746968\n",
      "최대값 :2.577732411882751\n",
      "최소값 :-0.9030148775924102\n"
     ]
    },
    {
     "data": {
      "image/png": "[encoded data removed]",
      "text/plain": [
       "<Figure size 432x288 with 1 Axes>"
      ]
     },
     "metadata": {},
     "output_type": "display_data"
    },
    {
     "name": "stdout",
     "output_type": "stream",
     "text": [
      "None\n"
     ]
    }
   ],
   "source": [
    "print('범죄율')\n",
    "print(statics.number(df2010['crime']))"
   ]
  },
  {
   "cell_type": "code",
   "execution_count": 350,
   "metadata": {
    "scrolled": true
   },
   "outputs": [
    {
     "name": "stdout",
     "output_type": "stream",
     "text": [
      "외국인 인구비중\n",
      "표본개수 :117\n",
      "평균 :6.933159126822612\n",
      "표준편차 :15.222546117099837\n",
      "최대값 :110.23727647303505\n",
      "최소값 :0.08895506618268274\n"
     ]
    },
    {
     "data": {
      "image/png": "[encoded data removed]",
      "text/plain": [
       "<Figure size 432x288 with 1 Axes>"
      ]
     },
     "metadata": {},
     "output_type": "display_data"
    },
    {
     "name": "stdout",
     "output_type": "stream",
     "text": [
      "None\n"
     ]
    }
   ],
   "source": [
    "print('외국인 인구비중')\n",
    "print(statics.number(df2010['foreigner']))"
   ]
  },
  {
   "cell_type": "code",
   "execution_count": 351,
   "metadata": {},
   "outputs": [
    {
     "name": "stdout",
     "output_type": "stream",
     "text": [
      "노인 인구비중\n",
      "표본개수 :117\n",
      "평균 :0.31970443813489274\n",
      "표준편차 :0.05072364799500093\n",
      "최대값 :0.4884515156762524\n",
      "최소값 :0.14814366927318262\n"
     ]
    },
    {
     "data": {
      "image/png": "[encoded data removed]",
      "text/plain": [
       "<Figure size 432x288 with 1 Axes>"
      ]
     },
     "metadata": {},
     "output_type": "display_data"
    }
   ],
   "source": [
    "print('노인 인구비중')\n",
    "statics.number(df2010['grand'])"
   ]
  },
  {
   "cell_type": "code",
   "execution_count": 352,
   "metadata": {},
   "outputs": [
    {
     "name": "stdout",
     "output_type": "stream",
     "text": [
      "흡연율\n",
      "표본개수 :117\n",
      "평균 :25.253846153846148\n",
      "표준편차 :2.3630177164947606\n",
      "최대값 :30.8\n",
      "최소값 :19.2\n"
     ]
    },
    {
     "data": {
      "image/png": "[encoded data removed]",
      "text/plain": [
       "<Figure size 432x288 with 1 Axes>"
      ]
     },
     "metadata": {},
     "output_type": "display_data"
    }
   ],
   "source": [
    "print('흡연율')\n",
    "statics.number(df2010['smoke'])"
   ]
  },
  {
   "cell_type": "code",
   "execution_count": 353,
   "metadata": {
    "scrolled": true
   },
   "outputs": [
    {
     "name": "stdout",
     "output_type": "stream",
     "text": [
      "고위험 음주율\n",
      "표본개수 :117\n",
      "평균 :14.910256410256405\n",
      "표준편차 :3.8078054027925106\n",
      "최대값 :23.8\n",
      "최소값 :5.1\n"
     ]
    },
    {
     "data": {
      "image/png": "[encoded data removed]",
      "text/plain": [
       "<Figure size 432x288 with 1 Axes>"
      ]
     },
     "metadata": {},
     "output_type": "display_data"
    }
   ],
   "source": [
    "print('고위험 음주율')\n",
    "statics.number(df2010['drink'])"
   ]
  },
  {
   "cell_type": "code",
   "execution_count": 354,
   "metadata": {},
   "outputs": [
    {
     "name": "stdout",
     "output_type": "stream",
     "text": [
      "GRDP\n",
      "표본개수 :117\n",
      "평균 :2.950374141746689\n",
      "표준편차 :3.6366039905384957\n",
      "최대값 :33.24750417852464\n",
      "최소값 :0.6190639102031507\n"
     ]
    },
    {
     "data": {
      "image/png": "[encoded data removed]",
      "text/plain": [
       "<Figure size 432x288 with 1 Axes>"
      ]
     },
     "metadata": {},
     "output_type": "display_data"
    }
   ],
   "source": [
    "print('GRDP')\n",
    "statics.number(df2010['grdp'])"
   ]
  },
  {
   "cell_type": "code",
   "execution_count": 355,
   "metadata": {},
   "outputs": [
    {
     "name": "stdout",
     "output_type": "stream",
     "text": [
      "학원수\n",
      "표본개수 :117\n",
      "평균 :1.5085470085470083\n",
      "표준편차 :0.5744670736694726\n",
      "최대값 :3.6\n",
      "최소값 :0.2\n"
     ]
    },
    {
     "data": {
      "image/png": "[encoded data removed]",
      "text/plain": [
       "<Figure size 432x288 with 1 Axes>"
      ]
     },
     "metadata": {},
     "output_type": "display_data"
    }
   ],
   "source": [
    "print('학원수')\n",
    "statics.number(df2010['academe'])"
   ]
  },
  {
   "cell_type": "markdown",
   "metadata": {},
   "source": [
    "# OLS\n",
    "- log를 취했습니다."
   ]
  },
  {
   "cell_type": "code",
   "execution_count": 14,
   "metadata": {},
   "outputs": [
    {
     "name": "stdout",
     "output_type": "stream",
     "text": [
      "                                 OLS Regression Results                                \n",
      "=======================================================================================\n",
      "Dep. Variable:                  crime   R-squared (uncentered):                   0.927\n",
      "Model:                            OLS   Adj. R-squared (uncentered):              0.923\n",
      "Method:                 Least Squares   F-statistic:                              236.2\n",
      "Date:                Mon, 13 Jul 2020   Prob (F-statistic):                    8.64e-61\n",
      "Time:                        11:52:36   Log-Likelihood:                         -45.354\n",
      "No. Observations:                 117   AIC:                                      102.7\n",
      "Df Residuals:                     111   BIC:                                      119.3\n",
      "Df Model:                           6                                                  \n",
      "Covariance Type:            nonrobust                                                  \n",
      "==============================================================================\n",
      "                 coef    std err          t      P>|t|      [0.025      0.975]\n",
      "------------------------------------------------------------------------------\n",
      "academe        0.1833      0.057      3.204      0.002       0.070       0.297\n",
      "grand          2.6998      0.658      4.101      0.000       1.395       4.004\n",
      "grdp           0.0525      0.011      4.970      0.000       0.032       0.073\n",
      "foreigner      0.0037      0.003      1.424      0.157      -0.001       0.009\n",
      "smoke         -0.0086      0.010     -0.896      0.372      -0.028       0.010\n",
      "drink          0.0095      0.010      0.973      0.333      -0.010       0.029\n",
      "==============================================================================\n",
      "Omnibus:                       21.607   Durbin-Watson:                   1.524\n",
      "Prob(Omnibus):                  0.000   Jarque-Bera (JB):               33.365\n",
      "Skew:                          -0.873   Prob(JB):                     5.69e-08\n",
      "Kurtosis:                       4.949   Cond. No.                         598.\n",
      "==============================================================================\n",
      "\n",
      "Warnings:\n",
      "[1] Standard Errors assume that the covariance matrix of the errors is correctly specified.\n"
     ]
    }
   ],
   "source": [
    "X = ['academe','grand','grdp','foreigner','smoke','drink'] \n",
    "reg =sm.OLS((df2010['crime']),df2010[X],missing='drop').fit()\n",
    "print(reg.summary())"
   ]
  },
  {
   "cell_type": "code",
   "execution_count": 15,
   "metadata": {},
   "outputs": [
    {
     "name": "stdout",
     "output_type": "stream",
     "text": [
      "                                 OLS Regression Results                                \n",
      "=======================================================================================\n",
      "Dep. Variable:                  crime   R-squared (uncentered):                   0.925\n",
      "Model:                            OLS   Adj. R-squared (uncentered):              0.923\n",
      "Method:                 Least Squares   F-statistic:                              468.4\n",
      "Date:                Mon, 13 Jul 2020   Prob (F-statistic):                    6.39e-64\n",
      "Time:                        11:52:40   Log-Likelihood:                         -47.263\n",
      "No. Observations:                 117   AIC:                                      100.5\n",
      "Df Residuals:                     114   BIC:                                      108.8\n",
      "Df Model:                           3                                                  \n",
      "Covariance Type:            nonrobust                                                  \n",
      "==============================================================================\n",
      "                 coef    std err          t      P>|t|      [0.025      0.975]\n",
      "------------------------------------------------------------------------------\n",
      "grdp           0.0588      0.009      6.288      0.000       0.040       0.077\n",
      "grand          2.6638      0.267      9.958      0.000       2.134       3.194\n",
      "academe        0.1455      0.051      2.845      0.005       0.044       0.247\n",
      "==============================================================================\n",
      "Omnibus:                       23.996   Durbin-Watson:                   1.552\n",
      "Prob(Omnibus):                  0.000   Jarque-Bera (JB):               36.564\n",
      "Skew:                          -0.976   Prob(JB):                     1.15e-08\n",
      "Kurtosis:                       4.922   Cond. No.                         38.3\n",
      "==============================================================================\n",
      "\n",
      "Warnings:\n",
      "[1] Standard Errors assume that the covariance matrix of the errors is correctly specified.\n"
     ]
    }
   ],
   "source": [
    "X = ['grdp','grand','academe'] \n",
    "reg1 =sm.OLS((df2010['crime']),df2010[X],missing='drop').fit()\n",
    "print(reg1.summary())"
   ]
  },
  {
   "cell_type": "code",
   "execution_count": 402,
   "metadata": {},
   "outputs": [],
   "source": [
    "#X1 = ['smoke','grand',\n",
    "#          'grdp']\n",
    "#reg1 =sm.OLS((df2010['crime']),df2010[X1],missing='drop').fit()\n",
    "#print(reg1.summary())"
   ]
  },
  {
   "cell_type": "code",
   "execution_count": 13,
   "metadata": {},
   "outputs": [],
   "source": [
    "features = 'academe + grand + grdp + foreigner + smoke + drink '"
   ]
  },
  {
   "cell_type": "code",
   "execution_count": 14,
   "metadata": {},
   "outputs": [
    {
     "data": {
      "text/plain": [
       "'academe + grand + grdp + foreigner + smoke + drink '"
      ]
     },
     "execution_count": 14,
     "metadata": {},
     "output_type": "execute_result"
    }
   ],
   "source": [
    "features"
   ]
  },
  {
   "cell_type": "code",
   "execution_count": 15,
   "metadata": {},
   "outputs": [],
   "source": [
    "y, X = dmatrices( 'crime~'+ features, df2010, return_type='dataframe')"
   ]
  },
  {
   "cell_type": "code",
   "execution_count": 16,
   "metadata": {},
   "outputs": [
    {
     "data": {
      "text/html": [
       "<div>\n",
       "<style scoped>\n",
       "    .dataframe tbody tr th:only-of-type {\n",
       "        vertical-align: middle;\n",
       "    }\n",
       "\n",
       "    .dataframe tbody tr th {\n",
       "        vertical-align: top;\n",
       "    }\n",
       "\n",
       "    .dataframe thead th {\n",
       "        text-align: right;\n",
       "    }\n",
       "</style>\n",
       "<table border=\"1\" class=\"dataframe\">\n",
       "  <thead>\n",
       "    <tr style=\"text-align: right;\">\n",
       "      <th></th>\n",
       "      <th>VIF Factor</th>\n",
       "    </tr>\n",
       "  </thead>\n",
       "  <tbody>\n",
       "    <tr>\n",
       "      <th>0</th>\n",
       "      <td>175.057834</td>\n",
       "    </tr>\n",
       "    <tr>\n",
       "      <th>1</th>\n",
       "      <td>1.213751</td>\n",
       "    </tr>\n",
       "    <tr>\n",
       "      <th>2</th>\n",
       "      <td>1.131807</td>\n",
       "    </tr>\n",
       "    <tr>\n",
       "      <th>3</th>\n",
       "      <td>1.287993</td>\n",
       "    </tr>\n",
       "    <tr>\n",
       "      <th>4</th>\n",
       "      <td>1.391386</td>\n",
       "    </tr>\n",
       "    <tr>\n",
       "      <th>5</th>\n",
       "      <td>1.114355</td>\n",
       "    </tr>\n",
       "    <tr>\n",
       "      <th>6</th>\n",
       "      <td>1.219286</td>\n",
       "    </tr>\n",
       "  </tbody>\n",
       "</table>\n",
       "</div>"
      ],
      "text/plain": [
       "   VIF Factor\n",
       "0  175.057834\n",
       "1    1.213751\n",
       "2    1.131807\n",
       "3    1.287993\n",
       "4    1.391386\n",
       "5    1.114355\n",
       "6    1.219286"
      ]
     },
     "execution_count": 16,
     "metadata": {},
     "output_type": "execute_result"
    },
    {
     "data": {
      "text/html": [
       "<div>\n",
       "<style scoped>\n",
       "    .dataframe tbody tr th:only-of-type {\n",
       "        vertical-align: middle;\n",
       "    }\n",
       "\n",
       "    .dataframe tbody tr th {\n",
       "        vertical-align: top;\n",
       "    }\n",
       "\n",
       "    .dataframe thead th {\n",
       "        text-align: right;\n",
       "    }\n",
       "</style>\n",
       "<table border=\"1\" class=\"dataframe\">\n",
       "  <thead>\n",
       "    <tr style=\"text-align: right;\">\n",
       "      <th></th>\n",
       "      <th>VIF Factor</th>\n",
       "      <th>features</th>\n",
       "    </tr>\n",
       "  </thead>\n",
       "  <tbody>\n",
       "    <tr>\n",
       "      <th>0</th>\n",
       "      <td>175.057834</td>\n",
       "      <td>Intercept</td>\n",
       "    </tr>\n",
       "    <tr>\n",
       "      <th>1</th>\n",
       "      <td>1.213751</td>\n",
       "      <td>academe</td>\n",
       "    </tr>\n",
       "    <tr>\n",
       "      <th>2</th>\n",
       "      <td>1.131807</td>\n",
       "      <td>grand</td>\n",
       "    </tr>\n",
       "    <tr>\n",
       "      <th>3</th>\n",
       "      <td>1.287993</td>\n",
       "      <td>grdp</td>\n",
       "    </tr>\n",
       "    <tr>\n",
       "      <th>4</th>\n",
       "      <td>1.391386</td>\n",
       "      <td>foreigner</td>\n",
       "    </tr>\n",
       "    <tr>\n",
       "      <th>5</th>\n",
       "      <td>1.114355</td>\n",
       "      <td>smoke</td>\n",
       "    </tr>\n",
       "    <tr>\n",
       "      <th>6</th>\n",
       "      <td>1.219286</td>\n",
       "      <td>drink</td>\n",
       "    </tr>\n",
       "  </tbody>\n",
       "</table>\n",
       "</div>"
      ],
      "text/plain": [
       "   VIF Factor   features\n",
       "0  175.057834  Intercept\n",
       "1    1.213751    academe\n",
       "2    1.131807      grand\n",
       "3    1.287993       grdp\n",
       "4    1.391386  foreigner\n",
       "5    1.114355      smoke\n",
       "6    1.219286      drink"
      ]
     },
     "execution_count": 16,
     "metadata": {},
     "output_type": "execute_result"
    }
   ],
   "source": [
    "vif = pd.DataFrame()\n",
    "vif['VIF Factor'] = [variance_inflation_factor(X.values, i)for i in range(X.shape[1])]\n",
    "vif\n",
    "vif['features'] = X.columns\n",
    "vif"
   ]
  },
  {
   "cell_type": "code",
   "execution_count": 17,
   "metadata": {},
   "outputs": [
    {
     "data": {
      "text/plain": [
       "[('Jarque-Beta', 36.56398628196268),\n",
       " ('Chi^2 two-tail prob', 1.1487651731156085e-08),\n",
       " ('Skew', -0.9756826901204237),\n",
       " ('Kurtosis', 4.921582168721601)]"
      ]
     },
     "execution_count": 17,
     "metadata": {},
     "output_type": "execute_result"
    }
   ],
   "source": [
    "name = ['Jarque-Beta','Chi^2 two-tail prob','Skew','Kurtosis']\n",
    "jarque=sms.jarque_bera(reg1.resid)\n",
    "lzip(name,jarque)\n",
    "# Jarque-Beta가 낮아야함"
   ]
  },
  {
   "cell_type": "code",
   "execution_count": null,
   "metadata": {},
   "outputs": [],
   "source": []
  },
  {
   "cell_type": "code",
   "execution_count": 408,
   "metadata": {},
   "outputs": [
    {
     "data": {
      "text/plain": [
       "((array([-2.51766264, -2.18797753, -1.99804211, -1.86093788, -1.75188371,\n",
       "         -1.66039676, -1.58101103, -1.51049811, -1.44678472, -1.3884565 ,\n",
       "         -1.33450338, -1.28417768, -1.23690959, -1.19225441, -1.149858  ,\n",
       "         -1.1094335 , -1.07074507, -1.03359631, -0.99782179, -0.96328078,\n",
       "         -0.92985244, -0.89743218, -0.86592881, -0.83526226, -0.80536182,\n",
       "         -0.77616466, -0.74761465, -0.71966143, -0.69225957, -0.66536793,\n",
       "         -0.6389491 , -0.6129689 , -0.58739603, -0.56220168, -0.53735927,\n",
       "         -0.51284418, -0.48863352, -0.46470597, -0.44104159, -0.41762168,\n",
       "         -0.39442864, -0.37144588, -0.34865769, -0.32604915, -0.30360607,\n",
       "         -0.28131491, -0.25916267, -0.2371369 , -0.21522558, -0.19341713,\n",
       "         -0.17170029, -0.15006414, -0.12849802, -0.1069915 , -0.08553436,\n",
       "         -0.06411654, -0.04272809, -0.02135917,  0.        ,  0.02135917,\n",
       "          0.04272809,  0.06411654,  0.08553436,  0.1069915 ,  0.12849802,\n",
       "          0.15006414,  0.17170029,  0.19341713,  0.21522558,  0.2371369 ,\n",
       "          0.25916267,  0.28131491,  0.30360607,  0.32604915,  0.34865769,\n",
       "          0.37144588,  0.39442864,  0.41762168,  0.44104159,  0.46470597,\n",
       "          0.48863352,  0.51284418,  0.53735927,  0.56220168,  0.58739603,\n",
       "          0.6129689 ,  0.6389491 ,  0.66536793,  0.69225957,  0.71966143,\n",
       "          0.74761465,  0.77616466,  0.80536182,  0.83526226,  0.86592881,\n",
       "          0.89743218,  0.92985244,  0.96328078,  0.99782179,  1.03359631,\n",
       "          1.07074507,  1.1094335 ,  1.149858  ,  1.19225441,  1.23690959,\n",
       "          1.28417768,  1.33450338,  1.3884565 ,  1.44678472,  1.51049811,\n",
       "          1.58101103,  1.66039676,  1.75188371,  1.86093788,  1.99804211,\n",
       "          2.18797753,  2.51766264]),\n",
       "  array([-1.32628996e+00, -1.11147224e+00, -9.62337409e-01, -8.52016461e-01,\n",
       "         -7.56726483e-01, -7.49120276e-01, -7.36088744e-01, -6.55782453e-01,\n",
       "         -6.32425952e-01, -5.55544293e-01, -5.06656376e-01, -4.58548777e-01,\n",
       "         -4.55557992e-01, -4.32014598e-01, -4.29168665e-01, -4.08211408e-01,\n",
       "         -3.49636201e-01, -3.26342643e-01, -2.27024966e-01, -2.07005498e-01,\n",
       "         -2.00521568e-01, -1.72659079e-01, -1.72240628e-01, -1.68566006e-01,\n",
       "         -1.64418792e-01, -1.53651196e-01, -1.43802718e-01, -1.42793037e-01,\n",
       "         -1.31900926e-01, -1.27466616e-01, -1.27080384e-01, -1.22782288e-01,\n",
       "         -1.20962662e-01, -1.19101143e-01, -1.13867236e-01, -1.11643782e-01,\n",
       "         -1.06452091e-01, -1.06079205e-01, -1.01620670e-01, -8.25657181e-02,\n",
       "         -8.19383660e-02, -7.03837797e-02, -6.86316316e-02, -6.33831626e-02,\n",
       "         -6.22748735e-02, -4.22622093e-02, -3.65975911e-02, -3.51428853e-02,\n",
       "         -3.46198861e-02, -3.31932188e-02, -2.14712925e-02, -8.73093329e-03,\n",
       "         -8.31117373e-03,  3.80593439e-04,  1.10294671e-02,  1.65715091e-02,\n",
       "          1.83627328e-02,  2.20888445e-02,  2.44030950e-02,  2.87476757e-02,\n",
       "          4.59365367e-02,  4.69470802e-02,  4.88629129e-02,  6.05421292e-02,\n",
       "          6.31929316e-02,  7.32413305e-02,  7.92819491e-02,  8.30540441e-02,\n",
       "          8.42240706e-02,  9.56393250e-02,  9.73823800e-02,  1.08534880e-01,\n",
       "          1.11066501e-01,  1.31448907e-01,  1.31883058e-01,  1.32914099e-01,\n",
       "          1.35134531e-01,  1.42240281e-01,  1.45067095e-01,  1.50346168e-01,\n",
       "          1.64908015e-01,  1.70419217e-01,  1.73062148e-01,  1.75295908e-01,\n",
       "          1.80249614e-01,  1.82193160e-01,  1.89446934e-01,  2.06099135e-01,\n",
       "          2.12088628e-01,  2.12750748e-01,  2.15770949e-01,  2.21200581e-01,\n",
       "          2.23081795e-01,  2.28148091e-01,  2.35020822e-01,  2.36853183e-01,\n",
       "          2.63230253e-01,  2.68785519e-01,  2.74444876e-01,  2.77100812e-01,\n",
       "          2.93964979e-01,  2.97033588e-01,  3.08732734e-01,  3.09637664e-01,\n",
       "          3.18466835e-01,  3.34472378e-01,  3.61307039e-01,  3.83514294e-01,\n",
       "          4.17314096e-01,  4.47137039e-01,  4.50076447e-01,  5.39636782e-01,\n",
       "          5.40553639e-01,  6.34792739e-01,  6.38737662e-01,  8.19672668e-01,\n",
       "          8.91364018e-01])),\n",
       " (0.35051189947063, -0.008632470327869533, 0.9660995840805247))"
      ]
     },
     "execution_count": 408,
     "metadata": {},
     "output_type": "execute_result"
    },
    {
     "data": {
      "text/plain": [
       "Text(0.5, 1.0, 'Residual Q-Q Plot')"
      ]
     },
     "execution_count": 408,
     "metadata": {},
     "output_type": "execute_result"
    },
    {
     "name": "stderr",
     "output_type": "stream",
     "text": [
      "C:\\ProgramData\\Anaconda3\\lib\\site-packages\\matplotlib\\backends\\backend_agg.py:211: RuntimeWarning: Glyph 8722 missing from current font.\n",
      "  font.set_text(s, 0.0, flags=flags)\n",
      "C:\\ProgramData\\Anaconda3\\lib\\site-packages\\matplotlib\\backends\\backend_agg.py:180: RuntimeWarning: Glyph 8722 missing from current font.\n",
      "  font.set_text(s, 0, flags=flags)\n"
     ]
    },
    {
     "data": {
      "image/png": "[encoded data removed]",
      "text/plain": [
       "<Figure size 432x288 with 1 Axes>"
      ]
     },
     "metadata": {},
     "output_type": "display_data"
    }
   ],
   "source": [
    "stats.probplot(reg.resid, dist = 'norm', plot = plt)\n",
    "plt.title('Residual Q-Q Plot')"
   ]
  },
  {
   "cell_type": "code",
   "execution_count": 18,
   "metadata": {},
   "outputs": [
    {
     "data": {
      "text/plain": [
       "[('Lagrange multiplier static', 20.091106064311166),\n",
       " ('p-value', 4.3378222341808285e-05),\n",
       " ('f-value', 7.8781420304980125),\n",
       " ('f p-value', 8.013669615736525e-05)]"
      ]
     },
     "execution_count": 18,
     "metadata": {},
     "output_type": "execute_result"
    }
   ],
   "source": [
    "name = ['Lagrange multiplier static','p-value','f-value','f p-value']\n",
    "BPtest = sms.het_breuschpagan(reg1.resid, reg1.model.exog)\n",
    "lzip(name,BPtest)\n",
    "#높아야 동분산 lucky"
   ]
  },
  {
   "cell_type": "markdown",
   "metadata": {},
   "source": [
    "# White-Test가 오류가 납니다."
   ]
  },
  {
   "cell_type": "code",
   "execution_count": 410,
   "metadata": {},
   "outputs": [
    {
     "ename": "AssertionError",
     "evalue": "",
     "output_type": "error",
     "traceback": [
      "\u001b[1;31m---------------------------------------------------------------------------\u001b[0m",
      "\u001b[1;31mAssertionError\u001b[0m                            Traceback (most recent call last)",
      "\u001b[1;32m<ipython-input-410-8690f6ca9abb>\u001b[0m in \u001b[0;36m<module>\u001b[1;34m\u001b[0m\n\u001b[0;32m      1\u001b[0m \u001b[0mname\u001b[0m \u001b[1;33m=\u001b[0m \u001b[1;33m[\u001b[0m\u001b[1;34m'Lagrange multiplier static'\u001b[0m\u001b[1;33m,\u001b[0m\u001b[1;34m'p-value'\u001b[0m\u001b[1;33m,\u001b[0m\u001b[1;34m'f-value'\u001b[0m\u001b[1;33m,\u001b[0m\u001b[1;34m'f p-value'\u001b[0m\u001b[1;33m]\u001b[0m\u001b[1;33m\u001b[0m\u001b[1;33m\u001b[0m\u001b[0m\n\u001b[1;32m----> 2\u001b[1;33m \u001b[0mWhitetest\u001b[0m\u001b[1;33m=\u001b[0m\u001b[0msms\u001b[0m\u001b[1;33m.\u001b[0m\u001b[0mhet_white\u001b[0m\u001b[1;33m(\u001b[0m\u001b[0mreg1\u001b[0m\u001b[1;33m.\u001b[0m\u001b[0mresid\u001b[0m\u001b[1;33m,\u001b[0m \u001b[0mreg1\u001b[0m\u001b[1;33m.\u001b[0m\u001b[0mmodel\u001b[0m\u001b[1;33m.\u001b[0m\u001b[0mexog\u001b[0m\u001b[1;33m)\u001b[0m\u001b[1;33m\u001b[0m\u001b[1;33m\u001b[0m\u001b[0m\n\u001b[0m\u001b[0;32m      3\u001b[0m \u001b[0mlzip\u001b[0m\u001b[1;33m(\u001b[0m\u001b[0mname\u001b[0m\u001b[1;33m,\u001b[0m \u001b[0mWhitetest\u001b[0m\u001b[1;33m)\u001b[0m\u001b[1;33m\u001b[0m\u001b[1;33m\u001b[0m\u001b[0m\n",
      "\u001b[1;32mC:\\ProgramData\\Anaconda3\\lib\\site-packages\\statsmodels\\stats\\diagnostic.py\u001b[0m in \u001b[0;36mhet_white\u001b[1;34m(resid, exog)\u001b[0m\n\u001b[0;32m    953\u001b[0m     \u001b[1;31m# df_model checks the rank to determine df\u001b[0m\u001b[1;33m\u001b[0m\u001b[1;33m\u001b[0m\u001b[1;33m\u001b[0m\u001b[0m\n\u001b[0;32m    954\u001b[0m     \u001b[1;31m# extra calculation that can be removed:\u001b[0m\u001b[1;33m\u001b[0m\u001b[1;33m\u001b[0m\u001b[1;33m\u001b[0m\u001b[0m\n\u001b[1;32m--> 955\u001b[1;33m     \u001b[1;32massert\u001b[0m \u001b[0mresols\u001b[0m\u001b[1;33m.\u001b[0m\u001b[0mdf_model\u001b[0m \u001b[1;33m==\u001b[0m \u001b[0mnp\u001b[0m\u001b[1;33m.\u001b[0m\u001b[0mlinalg\u001b[0m\u001b[1;33m.\u001b[0m\u001b[0mmatrix_rank\u001b[0m\u001b[1;33m(\u001b[0m\u001b[0mexog\u001b[0m\u001b[1;33m)\u001b[0m \u001b[1;33m-\u001b[0m \u001b[1;36m1\u001b[0m\u001b[1;33m\u001b[0m\u001b[1;33m\u001b[0m\u001b[0m\n\u001b[0m\u001b[0;32m    956\u001b[0m     \u001b[0mlmpval\u001b[0m \u001b[1;33m=\u001b[0m \u001b[0mstats\u001b[0m\u001b[1;33m.\u001b[0m\u001b[0mchi2\u001b[0m\u001b[1;33m.\u001b[0m\u001b[0msf\u001b[0m\u001b[1;33m(\u001b[0m\u001b[0mlm\u001b[0m\u001b[1;33m,\u001b[0m \u001b[0mresols\u001b[0m\u001b[1;33m.\u001b[0m\u001b[0mdf_model\u001b[0m\u001b[1;33m)\u001b[0m\u001b[1;33m\u001b[0m\u001b[1;33m\u001b[0m\u001b[0m\n\u001b[0;32m    957\u001b[0m     \u001b[1;32mreturn\u001b[0m \u001b[0mlm\u001b[0m\u001b[1;33m,\u001b[0m \u001b[0mlmpval\u001b[0m\u001b[1;33m,\u001b[0m \u001b[0mfval\u001b[0m\u001b[1;33m,\u001b[0m \u001b[0mfpval\u001b[0m\u001b[1;33m\u001b[0m\u001b[1;33m\u001b[0m\u001b[0m\n",
      "\u001b[1;31mAssertionError\u001b[0m: "
     ]
    }
   ],
   "source": [
    "name = ['Lagrange multiplier static','p-value','f-value','f p-value']\n",
    "Whitetest=sms.het_white(reg1.resid, reg1.model.exog)\n",
    "lzip(name, Whitetest)"
   ]
  },
  {
   "cell_type": "code",
   "execution_count": 19,
   "metadata": {},
   "outputs": [
    {
     "name": "stdout",
     "output_type": "stream",
     "text": [
      "                                 OLS Regression Results                                \n",
      "=======================================================================================\n",
      "Dep. Variable:                  crime   R-squared (uncentered):                   0.925\n",
      "Model:                            OLS   Adj. R-squared (uncentered):              0.923\n",
      "Method:                 Least Squares   F-statistic:                              509.3\n",
      "Date:                Sat, 11 Jul 2020   Prob (F-statistic):                    7.70e-66\n",
      "Time:                        19:20:18   Log-Likelihood:                         -47.263\n",
      "No. Observations:                 117   AIC:                                      100.5\n",
      "Df Residuals:                     114   BIC:                                      108.8\n",
      "Df Model:                           3                                                  \n",
      "Covariance Type:                  HC2                                                  \n",
      "==============================================================================\n",
      "                 coef    std err          z      P>|z|      [0.025      0.975]\n",
      "------------------------------------------------------------------------------\n",
      "grand          2.6638      0.225     11.839      0.000       2.223       3.105\n",
      "grdp           0.0588      0.016      3.640      0.000       0.027       0.090\n",
      "academe        0.1455      0.046      3.142      0.002       0.055       0.236\n",
      "==============================================================================\n",
      "Omnibus:                       23.996   Durbin-Watson:                   1.552\n",
      "Prob(Omnibus):                  0.000   Jarque-Bera (JB):               36.564\n",
      "Skew:                          -0.976   Prob(JB):                     1.15e-08\n",
      "Kurtosis:                       4.922   Cond. No.                         38.3\n",
      "==============================================================================\n",
      "\n",
      "Warnings:\n",
      "[1] Standard Errors are heteroscedasticity robust (HC2)\n"
     ]
    }
   ],
   "source": [
    "X2 = ['grand','grdp','academe']\n",
    "reg2 =sm.OLS((df2010['crime']),df2010[X2],missing='drop').fit(cov_type = 'HC2')\n",
    "print(reg2.summary())"
   ]
  },
  {
   "cell_type": "code",
   "execution_count": 20,
   "metadata": {},
   "outputs": [
    {
     "name": "stdout",
     "output_type": "stream",
     "text": [
      "            0          1\n",
      "0     LM-stat  12.367075\n",
      "1  LM:p-value   0.002063\n",
      "2     F-value   4.446038\n",
      "3   F:p-value   0.013885\n"
     ]
    }
   ],
   "source": [
    "name = ['LM-stat','LM:p-value','F-value','F:p-value']\n",
    "bg_t = sm_diagnostic.acorr_breusch_godfrey(reg2,nlags = 2)\n",
    "print(pd.DataFrame(lzip(name, bg_t)))\n",
    "# 높아야함"
   ]
  },
  {
   "cell_type": "code",
   "execution_count": 21,
   "metadata": {},
   "outputs": [
    {
     "name": "stdout",
     "output_type": "stream",
     "text": [
      "                                 OLS Regression Results                                \n",
      "=======================================================================================\n",
      "Dep. Variable:                  crime   R-squared (uncentered):                   0.925\n",
      "Model:                            OLS   Adj. R-squared (uncentered):              0.923\n",
      "Method:                 Least Squares   F-statistic:                              442.8\n",
      "Date:                Sat, 11 Jul 2020   Prob (F-statistic):                    1.23e-62\n",
      "Time:                        19:20:22   Log-Likelihood:                         -47.263\n",
      "No. Observations:                 117   AIC:                                      100.5\n",
      "Df Residuals:                     114   BIC:                                      108.8\n",
      "Df Model:                           3                                                  \n",
      "Covariance Type:                  HAC                                                  \n",
      "==============================================================================\n",
      "                 coef    std err          z      P>|z|      [0.025      0.975]\n",
      "------------------------------------------------------------------------------\n",
      "grand          2.6638      0.209     12.750      0.000       2.254       3.073\n",
      "grdp           0.0588      0.011      5.264      0.000       0.037       0.081\n",
      "academe        0.1455      0.046      3.141      0.002       0.055       0.236\n",
      "==============================================================================\n",
      "Omnibus:                       23.996   Durbin-Watson:                   1.552\n",
      "Prob(Omnibus):                  0.000   Jarque-Bera (JB):               36.564\n",
      "Skew:                          -0.976   Prob(JB):                     1.15e-08\n",
      "Kurtosis:                       4.922   Cond. No.                         38.3\n",
      "==============================================================================\n",
      "\n",
      "Warnings:\n",
      "[1] Standard Errors are heteroscedasticity and autocorrelation robust (HAC) using 1 lags and without small sample correction\n"
     ]
    }
   ],
   "source": [
    "reg3 = reg2.get_robustcov_results(cov_type = 'HAC',maxlags = 1)\n",
    "print(reg3.summary())"
   ]
  },
  {
   "cell_type": "code",
   "execution_count": 22,
   "metadata": {},
   "outputs": [
    {
     "name": "stdout",
     "output_type": "stream",
     "text": [
      "Ramsey Test :  <F test: F=array([[0.231571]]), p=0.6312919176121006, df_denom=113, df_num=1>\n"
     ]
    }
   ],
   "source": [
    "print('Ramsey Test : ',oi.reset_ramsey(reg2, degree=2))"
   ]
  },
  {
   "cell_type": "code",
   "execution_count": null,
   "metadata": {},
   "outputs": [],
   "source": []
  }
 ],
 "metadata": {
  "kernelspec": {
   "display_name": "Python 3 (ipykernel)",
   "language": "python",
   "name": "python3"
  },
  "language_info": {
   "codemirror_mode": {
    "name": "ipython",
    "version": 3
   },
   "file_extension": ".py",
   "mimetype": "text/x-python",
   "name": "python",
   "nbconvert_exporter": "python",
   "pygments_lexer": "ipython3",
   "version": "3.9.13"
  },
  "varInspector": {
   "cols": {
    "lenName": 16,
    "lenType": 16,
    "lenVar": 40
   },
   "kernels_config": {
    "python": {
     "delete_cmd_postfix": "",
     "delete_cmd_prefix": "del ",
     "library": "var_list.py",
     "varRefreshCmd": "print(var_dic_list())"
    },
    "r": {
     "delete_cmd_postfix": ") ",
     "delete_cmd_prefix": "rm(",
     "library": "var_list.r",
     "varRefreshCmd": "cat(var_dic_list()) "
    }
   },
   "types_to_exclude": [
    "module",
    "function",
    "builtin_function_or_method",
    "instance",
    "_Feature"
   ],
   "window_display": false
  }
 },
 "nbformat": 4,
 "nbformat_minor": 4
}
